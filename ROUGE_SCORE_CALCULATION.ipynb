{
 "cells": [
  {
   "cell_type": "markdown",
   "id": "d0cc7c18-cf21-45ff-95f6-433757266e98",
   "metadata": {},
   "source": [
    "# LLM Response evaluation using ROUGE SCORE"
   ]
  },
  {
   "cell_type": "code",
   "execution_count": 1,
   "id": "48bc48ea-f7db-4748-b6fa-aab7260fd928",
   "metadata": {},
   "outputs": [
    {
     "name": "stdout",
     "output_type": "stream",
     "text": [
      "Collecting rouge-score\n",
      "  Downloading rouge_score-0.1.2.tar.gz (17 kB)\n",
      "  Preparing metadata (setup.py): started\n",
      "  Preparing metadata (setup.py): finished with status 'done'\n",
      "Requirement already satisfied: absl-py in c:\\users\\janardhan\\anaconda3\\lib\\site-packages (from rouge-score) (2.1.0)\n",
      "Requirement already satisfied: nltk in c:\\users\\janardhan\\anaconda3\\lib\\site-packages (from rouge-score) (3.9.1)\n",
      "Requirement already satisfied: numpy in c:\\users\\janardhan\\anaconda3\\lib\\site-packages (from rouge-score) (1.26.4)\n",
      "Requirement already satisfied: six>=1.14.0 in c:\\users\\janardhan\\anaconda3\\lib\\site-packages (from rouge-score) (1.16.0)\n",
      "Requirement already satisfied: click in c:\\users\\janardhan\\anaconda3\\lib\\site-packages (from nltk->rouge-score) (8.1.7)\n",
      "Requirement already satisfied: joblib in c:\\users\\janardhan\\anaconda3\\lib\\site-packages (from nltk->rouge-score) (1.2.0)\n",
      "Requirement already satisfied: regex>=2021.8.3 in c:\\users\\janardhan\\anaconda3\\lib\\site-packages (from nltk->rouge-score) (2023.10.3)\n",
      "Requirement already satisfied: tqdm in c:\\users\\janardhan\\anaconda3\\lib\\site-packages (from nltk->rouge-score) (4.66.5)\n",
      "Requirement already satisfied: colorama in c:\\users\\janardhan\\anaconda3\\lib\\site-packages (from click->nltk->rouge-score) (0.4.6)\n",
      "Building wheels for collected packages: rouge-score\n",
      "  Building wheel for rouge-score (setup.py): started\n",
      "  Building wheel for rouge-score (setup.py): finished with status 'done'\n",
      "  Created wheel for rouge-score: filename=rouge_score-0.1.2-py3-none-any.whl size=24970 sha256=346e1499cb5690583dc5623531d4d0c414ddba794dcf8a6f408d8c6e61b3ba96\n",
      "  Stored in directory: c:\\users\\janardhan\\appdata\\local\\pip\\cache\\wheels\\1e\\19\\43\\8a442dc83660ca25e163e1bd1f89919284ab0d0c1475475148\n",
      "Successfully built rouge-score\n",
      "Installing collected packages: rouge-score\n",
      "Successfully installed rouge-score-0.1.2\n"
     ]
    }
   ],
   "source": [
    "!pip install rouge-score"
   ]
  },
  {
   "cell_type": "markdown",
   "id": "c20d4b09-9744-4ef0-ad88-825186816d65",
   "metadata": {},
   "source": [
    "# Precision: Fraction of matched n-grams in the generated text.\n",
    "# Recall: Fraction of matched n-grams in the reference text.\n",
    "# F1-Score: Harmonic mean of precision and recall."
   ]
  },
  {
   "cell_type": "code",
   "execution_count": 10,
   "id": "e1e40c1b",
   "metadata": {},
   "outputs": [
    {
     "name": "stdout",
     "output_type": "stream",
     "text": [
      "rouge1: Precision: 0.8182, Recall: 0.6923, F1: 0.7500\n",
      "rouge2: Precision: 0.7000, Recall: 0.5833, F1: 0.6364\n",
      "rouge3: Precision: 0.5556, Recall: 0.4545, F1: 0.5000\n",
      "rougeL: Precision: 0.8182, Recall: 0.6923, F1: 0.7500\n"
     ]
    }
   ],
   "source": [
    "from rouge_score import rouge_scorer\n",
    "\n",
    "# Reference and generated summaries\n",
    "reference = \"The cat sat on the mat, watching tom and jerry cartoon in television\"\n",
    "generated = \"The cat is sitting on the mat, watching tom and jerry\"\n",
    "\n",
    "# Initialize the ROUGE scorer\n",
    "#scorer = rouge_scorer.RougeScorer(['rouge1'], use_stemmer=True)\n",
    "#scorer = rouge_scorer.RougeScorer(['rouge1', 'rouge2'], use_stemmer=True)\n",
    "#scorer = rouge_scorer.RougeScorer(['rouge1', 'rouge2','rouge3'], use_stemmer=True)\n",
    "scorer = rouge_scorer.RougeScorer(['rouge1', 'rouge2','rouge3', 'rougeL'],use_stemmer=True)\n",
    "\n",
    "# Compute ROUGE scores\n",
    "scores = scorer.score(reference, generated)\n",
    "\n",
    "# Print results\n",
    "for rouge_type, score in scores.items():\n",
    "    print(f\"{rouge_type}: Precision: {score.precision:.4f}, Recall: {score.recall:.4f}, F1: {score.fmeasure:.4f}\")\n"
   ]
  },
  {
   "cell_type": "code",
   "execution_count": 8,
   "id": "88992128-f683-4969-842a-e4f725efa426",
   "metadata": {},
   "outputs": [
    {
     "name": "stdout",
     "output_type": "stream",
     "text": [
      "rouge1: Precision: 0.7826, Recall: 0.7200, F1: 0.7500\n",
      "rouge2: Precision: 0.5333, Recall: 0.4898, F1: 0.5106\n",
      "rouge3: Precision: 0.3636, Recall: 0.3333, F1: 0.3478\n",
      "rougeL: Precision: 0.6957, Recall: 0.6400, F1: 0.6667\n"
     ]
    }
   ],
   "source": [
    "from rouge_score import rouge_scorer\n",
    "\n",
    "# Reference and generated summaries\n",
    "reference = \"The quick brown fox jumps over the lazy dog. The fox is clever and loves solving puzzles. On a sunny afternoon, the fox saw the dog sleeping under a tree. It quietly approached, but the dog woke up and barked. Startled, the fox ran away to the forest to hide.\"\n",
    "\n",
    "\n",
    "generated = \"The clever fox jumps over the lazy dog and loves solving puzzles. One afternoon, the fox saw the dog resting under a tree. The fox sneaked closer, but the dog woke up barking. Surprised, the fox ran quickly and disappeared into the forest to stay hidden.\"\n",
    "# Initialize the ROUGE scorer\n",
    "#scorer = rouge_scorer.RougeScorer(['rouge1'], use_stemmer=True)\n",
    "#scorer = rouge_scorer.RougeScorer(['rouge1', 'rouge2'], use_stemmer=True)\n",
    "# scorer = rouge_scorer.RougeScorer(['rouge1', 'rouge2','rouge3'], use_stemmer=True)\n",
    "scorer = rouge_scorer.RougeScorer(['rouge1', 'rouge2','rouge3', 'rougeL'],use_stemmer=True)\n",
    "\n",
    "# Compute ROUGE scores\n",
    "scores = scorer.score(reference, generated)\n",
    "\n",
    "# Print results\n",
    "for rouge_type, score in scores.items():\n",
    "    print(f\"{rouge_type}: Precision: {score.precision:.4f}, Recall: {score.recall:.4f}, F1: {score.fmeasure:.4f}\")\n"
   ]
  },
  {
   "cell_type": "code",
   "execution_count": 6,
   "id": "e63342e0-718f-4367-a8f2-00b742c15713",
   "metadata": {},
   "outputs": [
    {
     "name": "stdout",
     "output_type": "stream",
     "text": [
      "rouge1: Precision: 0.6061, Recall: 0.4651, F1: 0.5263\n",
      "rouge2: Precision: 0.2500, Recall: 0.1905, F1: 0.2162\n",
      "rouge3: Precision: 0.0968, Recall: 0.0732, F1: 0.0833\n",
      "rougeL: Precision: 0.4848, Recall: 0.3721, F1: 0.4211\n"
     ]
    }
   ],
   "source": [
    "from rouge_score import rouge_scorer\n",
    "\n",
    "# Reference and generated summaries\n",
    "reference = \"Generative AI, also known as GenAI, is a branch of artificial intelligence that focuses on creating content, including text, images, audio, and more. GenAI models, such as ChatGPT and DALL-E, leverage deep learning techniques to understand patterns and generate human-like outputs.\"\n",
    "\n",
    "\n",
    "generated = \"GenAI is a part of artificial intelligence designed to produce content such as text, images, and sounds. Models like ChatGPT are examples of GenAI, trained on large datasets to mimic human-like outputs.\"\n",
    "# Initialize the ROUGE scorer\n",
    "#scorer = rouge_scorer.RougeScorer(['rouge1'], use_stemmer=True)\n",
    "#scorer = rouge_scorer.RougeScorer(['rouge1', 'rouge2'], use_stemmer=True)\n",
    "#scorer = rouge_scorer.RougeScorer(['rouge1', 'rouge2','rouge3'], use_stemmer=True)\n",
    "scorer = rouge_scorer.RougeScorer(['rouge1', 'rouge2','rouge3', 'rougeL'],use_stemmer=True)\n",
    "\n",
    "# Compute ROUGE scores\n",
    "scores = scorer.score(reference, generated)\n",
    "\n",
    "# Print results\n",
    "for rouge_type, score in scores.items():\n",
    "    print(f\"{rouge_type}: Precision: {score.precision:.4f}, Recall: {score.recall:.4f}, F1: {score.fmeasure:.4f}\")\n"
   ]
  },
  {
   "cell_type": "code",
   "execution_count": 9,
   "id": "b0f8814c-3ecc-49e5-8de4-d70dac3234e2",
   "metadata": {},
   "outputs": [
    {
     "name": "stdout",
     "output_type": "stream",
     "text": [
      "rouge1: Precision: 0.7079, Recall: 0.6300, F1: 0.6667\n",
      "rouge2: Precision: 0.2500, Recall: 0.2222, F1: 0.2353\n",
      "rouge3: Precision: 0.1149, Recall: 0.1020, F1: 0.1081\n",
      "rougeL: Precision: 0.5281, Recall: 0.4700, F1: 0.4974\n"
     ]
    }
   ],
   "source": [
    "from rouge_score import rouge_scorer\n",
    "\n",
    "# Reference and generated summaries\n",
    "reference = \"Electric vehicles (EVs) are transforming the automotive industry by offering a more sustainable and eco-friendly alternative to traditional gasoline-powered cars. EVs use electric motors powered by batteries, reducing the carbon footprint significantly. As technology advances, EVs are becoming more affordable and have longer driving ranges. Governments worldwide are investing in charging infrastructure to support the growing demand for electric vehicles. With the increased focus on environmental issues, EV adoption is expected to rise rapidly in the coming years. The shift to electric vehicles is seen as a crucial step toward reducing greenhouse gas emissions and combating climate change.\"\n",
    "\n",
    "\n",
    "generated = \"Electric vehicles (EVs) are changing the car industry by providing a cleaner alternative to gas-powered vehicles. Powered by batteries and electric motors, EVs help reduce carbon emissions. As technology improves, EVs are getting cheaper and offering longer driving ranges. Many governments are building charging stations to meet the growing demand for electric vehicles. With the emphasis on protecting the environment, EV sales are predicted to increase in the next few years. This transition to electric cars is essential in the fight against climate change and reducing environmental damage.\"\n",
    "# Initialize the ROUGE scorer\n",
    "#scorer = rouge_scorer.RougeScorer(['rouge1'], use_stemmer=True)\n",
    "#scorer = rouge_scorer.RougeScorer(['rouge1', 'rouge2'], use_stemmer=True)\n",
    "#scorer = rouge_scorer.RougeScorer(['rouge1', 'rouge2','rouge3'], use_stemmer=True)\n",
    "scorer = rouge_scorer.RougeScorer(['rouge1', 'rouge2','rouge3', 'rougeL'],use_stemmer=True)\n",
    "\n",
    "# Compute ROUGE scores\n",
    "scores = scorer.score(reference, generated)\n",
    "\n",
    "# Print results\n",
    "for rouge_type, score in scores.items():\n",
    "    print(f\"{rouge_type}: Precision: {score.precision:.4f}, Recall: {score.recall:.4f}, F1: {score.fmeasure:.4f}\")\n"
   ]
  },
  {
   "cell_type": "code",
   "execution_count": 6,
   "metadata": {},
   "outputs": [
    {
     "name": "stdout",
     "output_type": "stream",
     "text": [
      "rouge1: Precision: 0.8824, Recall: 0.8824, F1: 0.8824\n",
      "rouge2: Precision: 0.7500, Recall: 0.7500, F1: 0.7500\n",
      "rouge3: Precision: 0.6000, Recall: 0.6000, F1: 0.6000\n",
      "rougeL: Precision: 0.8824, Recall: 0.8824, F1: 0.8824\n"
     ]
    }
   ],
   "source": [
    "from rouge_score import rouge_scorer\n",
    "\n",
    "# Reference and generated summaries\n",
    "reference = \"The environment is facing major challenges due to human activity, such as pollution, deforestation, and climate change.\"\n",
    "\n",
    "\n",
    "generated = \"The environment is encountering major challenges due to human actions, such as pollution, deforestation, and climate change.\"\n",
    "\n",
    "# Initialize the ROUGE scorer\n",
    "#scorer = rouge_scorer.RougeScorer(['rouge1'], use_stemmer=True)\n",
    "#scorer = rouge_scorer.RougeScorer(['rouge1', 'rouge2'], use_stemmer=True)\n",
    "# scorer = rouge_scorer.RougeScorer(['rouge1', 'rouge2','rouge3'], use_stemmer=True)\n",
    "scorer = rouge_scorer.RougeScorer(['rouge1', 'rouge2','rouge3', 'rougeL'],use_stemmer=True)\n",
    "\n",
    "# Compute ROUGE scores\n",
    "scores = scorer.score(reference, generated)\n",
    "\n",
    "# Print results\n",
    "for rouge_type, score in scores.items():\n",
    "    print(f\"{rouge_type}: Precision: {score.precision:.4f}, Recall: {score.recall:.4f}, F1: {score.fmeasure:.4f}\")\n"
   ]
  }
 ],
 "metadata": {
  "kernelspec": {
   "display_name": "Python 3",
   "language": "python",
   "name": "python3"
  },
  "language_info": {
   "codemirror_mode": {
    "name": "ipython",
    "version": 3
   },
   "file_extension": ".py",
   "mimetype": "text/x-python",
   "name": "python",
   "nbconvert_exporter": "python",
   "pygments_lexer": "ipython3",
   "version": "3.11.5"
  }
 },
 "nbformat": 4,
 "nbformat_minor": 5
}
